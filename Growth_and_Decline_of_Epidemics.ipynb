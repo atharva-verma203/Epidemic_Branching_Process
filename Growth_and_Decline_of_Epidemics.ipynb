{
  "cells": [
    {
      "cell_type": "code",
      "execution_count": 1,
      "metadata": {
        "id": "xs6fX1lhLsoi"
      },
      "outputs": [],
      "source": [
        "import numpy as np\n",
        "import pandas as pd\n",
        "import matplotlib.pyplot as plt\n",
        "import plotly.graph_objs as go\n",
        "import plotly.express as px"
      ]
    },
    {
      "cell_type": "code",
      "execution_count": 2,
      "metadata": {
        "colab": {
          "base_uri": "https://localhost:8080/"
        },
        "id": "0X2CUwfBfUgc",
        "outputId": "be73404f-f6a3-4fa1-9515-b338e1af22d6"
      },
      "outputs": [],
      "source": [
        "# from google.colab import drive\n",
        "# drive.mount('/content/drive')"
      ]
    },
    {
      "cell_type": "code",
      "execution_count": 3,
      "metadata": {
        "id": "2HbY_8WgLxe-"
      },
      "outputs": [],
      "source": [
        "# Configuration\n",
        "r0_values = [0.5, 0.9, 1, 1.1, 1.5]\n",
        "num_generations = 20\n",
        "num_runs = 50\n",
        "simulations_per_run = 1000"
      ]
    },
    {
      "cell_type": "code",
      "execution_count": 4,
      "metadata": {
        "id": "tQd3tGWVL8Xk"
      },
      "outputs": [],
      "source": [
        "# Store results\n",
        "results = {\n",
        "    'r0': [],\n",
        "    'generation': [],\n",
        "    'avg_infection_per_run': [],\n",
        "    'avg_infections': [],\n",
        "    'extinction_prob_per_run': [],\n",
        "    'avg_extinction_prob': []\n",
        "}"
      ]
    },
    {
      "cell_type": "markdown",
      "metadata": {
        "id": "xGVVexGVPQEx"
      },
      "source": [
        "# Simulation"
      ]
    },
    {
      "cell_type": "code",
      "execution_count": 5,
      "metadata": {
        "id": "0kVLFPH_MMmu"
      },
      "outputs": [],
      "source": [
        "# Simulation function that returns both infections and extinction\n",
        "def simulate_single_run(r0, generations, simulations):\n",
        "    all_generations = np.zeros((simulations, generations))\n",
        "    extinctions = 0\n",
        "\n",
        "    for sim in range(simulations):\n",
        "        # start with one infected individual\n",
        "        infections = [1]\n",
        "        extinct = False\n",
        "        for gen in range(1, generations):\n",
        "            new_infections = sum(np.random.poisson(r0) for _ in range(infections[-1]))\n",
        "            infections.append(new_infections)\n",
        "            if new_infections == 0:\n",
        "                extinct = True\n",
        "                break\n",
        "        if len(infections) < generations:\n",
        "            infections += [0] * (generations - len(infections))\n",
        "        if extinct:\n",
        "            extinctions += 1\n",
        "        all_generations[sim] = infections\n",
        "\n",
        "    mean_infections = np.mean(all_generations, axis=0)\n",
        "    extinction_prob = extinctions / simulations\n",
        "    return mean_infections, extinction_prob"
      ]
    },
    {
      "cell_type": "code",
      "execution_count": 6,
      "metadata": {
        "colab": {
          "base_uri": "https://localhost:8080/"
        },
        "id": "K0Ep17KJMtqz",
        "outputId": "f9d65b41-b6a2-46d9-82bd-13640b37ec8f"
      },
      "outputs": [
        {
          "name": "stdout",
          "output_type": "stream",
          "text": [
            "Simulating for R₀ = 0.50 \n",
            "\n",
            "Simulating for R₀ = 0.90 \n",
            "\n",
            "Simulating for R₀ = 1.00 \n",
            "\n",
            "Simulating for R₀ = 1.10 \n",
            "\n",
            "Simulating for R₀ = 1.50 \n",
            "\n",
            "    r0  generation                              avg_infection_per_run  \\\n",
            "0  0.5           0  [1.0, 1.0, 1.0, 1.0, 1.0, 1.0, 1.0, 1.0, 1.0, ...   \n",
            "1  0.5           1  [0.495, 0.491, 0.494, 0.483, 0.536, 0.54, 0.51...   \n",
            "2  0.5           2  [0.261, 0.215, 0.25, 0.208, 0.284, 0.238, 0.24...   \n",
            "3  0.5           3  [0.116, 0.117, 0.114, 0.127, 0.135, 0.119, 0.1...   \n",
            "4  0.5           4  [0.057, 0.052, 0.061, 0.055, 0.038, 0.066, 0.0...   \n",
            "\n",
            "   avg_infections                            extinction_prob_per_run  \\\n",
            "0         1.00000  [1.0, 1.0, 1.0, 1.0, 1.0, 1.0, 1.0, 1.0, 1.0, ...   \n",
            "1         0.50354  [1.0, 1.0, 1.0, 1.0, 1.0, 1.0, 1.0, 1.0, 1.0, ...   \n",
            "2         0.25062  [1.0, 1.0, 1.0, 1.0, 1.0, 1.0, 1.0, 1.0, 1.0, ...   \n",
            "3         0.12284  [1.0, 1.0, 1.0, 1.0, 1.0, 1.0, 1.0, 1.0, 1.0, ...   \n",
            "4         0.06038  [1.0, 1.0, 1.0, 1.0, 1.0, 1.0, 1.0, 1.0, 1.0, ...   \n",
            "\n",
            "   avg_extinction_prob  \n",
            "0                  1.0  \n",
            "1                  1.0  \n",
            "2                  1.0  \n",
            "3                  1.0  \n",
            "4                  1.0  \n",
            "     r0  generation                              avg_infection_per_run  \\\n",
            "95  1.5          15  [442.246, 425.544, 423.011, 425.875, 465.268, ...   \n",
            "96  1.5          16  [675.675, 657.012, 683.313, 652.309, 643.375, ...   \n",
            "97  1.5          17  [910.638, 1009.48, 933.644, 979.482, 1012.053,...   \n",
            "98  1.5          18  [1466.142, 1468.494, 1515.891, 1443.256, 1455....   \n",
            "99  1.5          19  [1987.852, 2044.418, 2244.615, 2136.457, 2410....   \n",
            "\n",
            "    avg_infections                            extinction_prob_per_run  \\\n",
            "95       434.43794  [0.43, 0.452, 0.439, 0.418, 0.437, 0.446, 0.41...   \n",
            "96       658.97872  [0.419, 0.393, 0.444, 0.4, 0.412, 0.429, 0.424...   \n",
            "97       991.53128  [0.437, 0.391, 0.452, 0.407, 0.396, 0.403, 0.4...   \n",
            "98      1487.92104  [0.421, 0.426, 0.396, 0.438, 0.446, 0.41, 0.40...   \n",
            "99      2210.70058  [0.447, 0.425, 0.428, 0.419, 0.394, 0.399, 0.4...   \n",
            "\n",
            "    avg_extinction_prob  \n",
            "95              0.42074  \n",
            "96              0.41714  \n",
            "97              0.41760  \n",
            "98              0.41712  \n",
            "99              0.41554  \n"
          ]
        }
      ],
      "source": [
        "# Main loop - create nested functions, try different distributions\n",
        "for r0 in r0_values:\n",
        "    print(f\"Simulating for R₀ = {r0:.2f} \\n\")\n",
        "    for gen in range(num_generations):\n",
        "        run_averages = []\n",
        "        run_extinctions = []\n",
        "\n",
        "        for _ in range(num_runs):\n",
        "            mean_infections, extinction_prob = simulate_single_run(r0, num_generations, simulations_per_run)\n",
        "            run_averages.append(mean_infections[gen])\n",
        "            run_extinctions.append(extinction_prob)\n",
        "\n",
        "        # store simulated averages in a dataframe\n",
        "        results['r0'].append(r0)\n",
        "        results['generation'].append(gen)\n",
        "        results['avg_infection_per_run'].append(run_averages)\n",
        "        results['avg_infections'].append(np.mean(run_averages))\n",
        "        results['extinction_prob_per_run'].append(run_extinctions)\n",
        "        results['avg_extinction_prob'].append(np.mean(run_extinctions))\n",
        "\n",
        "# Create DataFrame\n",
        "df = pd.DataFrame(results)\n",
        "\n",
        "# Show sample\n",
        "print(df.head())\n",
        "print(df.tail())\n",
        "\n",
        "# df.to_csv(\"/content/drive/MyDrive/simulations.csv\", index=False) # For saving the file to Drive\n",
        "df.to_excel(\"simulations.xlsx\", index = False) # For saving the file to local folder"
      ]
    },
    {
      "cell_type": "markdown",
      "metadata": {
        "id": "FI99GJkcPIN7"
      },
      "source": [
        "# Visualisation"
      ]
    },
    {
      "cell_type": "code",
      "execution_count": 7,
      "metadata": {
        "colab": {
          "base_uri": "https://localhost:8080/"
        },
        "id": "fL2l7QYo6IXa",
        "outputId": "4a4f9f8a-8c3d-402f-aa60-fb04abdf4673"
      },
      "outputs": [
        {
          "name": "stdout",
          "output_type": "stream",
          "text": [
            "     r0  generation                              avg_infection_per_run  \\\n",
            "0   0.5           0  [np.float64(1.0), np.float64(1.0), np.float64(...   \n",
            "1   0.5           1  [np.float64(0.495), np.float64(0.491), np.floa...   \n",
            "2   0.5           2  [np.float64(0.261), np.float64(0.215), np.floa...   \n",
            "3   0.5           3  [np.float64(0.116), np.float64(0.117), np.floa...   \n",
            "4   0.5           4  [np.float64(0.057), np.float64(0.052), np.floa...   \n",
            "..  ...         ...                                                ...   \n",
            "95  1.5          15  [np.float64(442.246), np.float64(425.544), np....   \n",
            "96  1.5          16  [np.float64(675.675), np.float64(657.012), np....   \n",
            "97  1.5          17  [np.float64(910.638), np.float64(1009.48), np....   \n",
            "98  1.5          18  [np.float64(1466.142), np.float64(1468.494), n...   \n",
            "99  1.5          19  [np.float64(1987.852), np.float64(2044.418), n...   \n",
            "\n",
            "    avg_infections                            extinction_prob_per_run  \\\n",
            "0          1.00000  [1.0, 1.0, 1.0, 1.0, 1.0, 1.0, 1.0, 1.0, 1.0, ...   \n",
            "1          0.50354  [1.0, 1.0, 1.0, 1.0, 1.0, 1.0, 1.0, 1.0, 1.0, ...   \n",
            "2          0.25062  [1.0, 1.0, 1.0, 1.0, 1.0, 1.0, 1.0, 1.0, 1.0, ...   \n",
            "3          0.12284  [1.0, 1.0, 1.0, 1.0, 1.0, 1.0, 1.0, 1.0, 1.0, ...   \n",
            "4          0.06038  [1.0, 1.0, 1.0, 1.0, 1.0, 1.0, 1.0, 1.0, 1.0, ...   \n",
            "..             ...                                                ...   \n",
            "95       434.43794  [0.43, 0.452, 0.439, 0.418, 0.437, 0.446, 0.41...   \n",
            "96       658.97872  [0.419, 0.393, 0.444, 0.4, 0.412, 0.429, 0.424...   \n",
            "97       991.53128  [0.437, 0.391, 0.452, 0.407, 0.396, 0.403, 0.4...   \n",
            "98      1487.92104  [0.421, 0.426, 0.396, 0.438, 0.446, 0.41, 0.40...   \n",
            "99      2210.70058  [0.447, 0.425, 0.428, 0.419, 0.394, 0.399, 0.4...   \n",
            "\n",
            "    avg_extinction_prob  \n",
            "0               1.00000  \n",
            "1               1.00000  \n",
            "2               1.00000  \n",
            "3               1.00000  \n",
            "4               1.00000  \n",
            "..                  ...  \n",
            "95              0.42074  \n",
            "96              0.41714  \n",
            "97              0.41760  \n",
            "98              0.41712  \n",
            "99              0.41554  \n",
            "\n",
            "[100 rows x 6 columns]\n"
          ]
        }
      ],
      "source": [
        "# To save time on subsequent runs, this code block can be used to load results from a previously saved file\n",
        "# df = pd.read_csv(\"/content/drive/MyDrive/simulations.csv\") # For Colab import\n",
        "file_path = \"C:\\\\Users\\\\Atharva\\\\OneDrive\\\\Desktop\\\\My_Work\\\\MSc-I-Work\\\\Programming Languages\\\\Python\\\\simulations.xlsx\"\n",
        "df = pd.read_excel(file_path)\n",
        "# Use the required file path as needed\n",
        "print(df)"
      ]
    },
    {
      "cell_type": "code",
      "execution_count": 8,
      "metadata": {
        "colab": {
          "base_uri": "https://localhost:8080/",
          "height": 707
        },
        "id": "pjCHSL-J3OAb",
        "outputId": "ade17f19-35b1-4e73-a99b-905e5fd3187f"
      },
      "outputs": [
        {
          "data": {
            "image/png": "[encoded data removed]",
            "text/plain": [
              "<Figure size 1200x700 with 1 Axes>"
            ]
          },
          "metadata": {},
          "output_type": "display_data"
        }
      ],
      "source": [
        "# R0 vs infections\n",
        "def plot_r0_comparison(df):\n",
        "    plt.figure(figsize=(12, 7))\n",
        "\n",
        "    unique_r0s = sorted(df['r0'].unique())\n",
        "\n",
        "    for r0 in unique_r0s:\n",
        "        subset = df[df['r0'] == r0]\n",
        "        generations = subset['generation'].tolist()\n",
        "        means = subset['avg_infections'].tolist()\n",
        "        plt.plot(generations, means, label=f\"R₀ = {r0:.2f}\", linewidth=2)\n",
        "\n",
        "    plt.title(\"Epidemic Growth Comparison Across R₀ Values\")\n",
        "    plt.xlabel(\"Generation\")\n",
        "    plt.ylabel(\"Mean Infections\")\n",
        "    plt.legend()\n",
        "    plt.grid(True)\n",
        "    plt.tight_layout()\n",
        "    plt.show()\n",
        "plot_r0_comparison(df)"
      ]
    },
    {
      "cell_type": "code",
      "execution_count": 9,
      "metadata": {
        "colab": {
          "base_uri": "https://localhost:8080/",
          "height": 542
        },
        "id": "4uN_ynyj0pNP",
        "outputId": "d9f050f7-3009-4c63-ab35-da064d512af5"
      },
      "outputs": [
        {
          "data": {
            "application/vnd.plotly.v1+json": {
              "config": {
                "plotlyServerURL": "https://plot.ly"
              },
              "data": [
                {
                  "line": {
                    "color": "#636EFA",
                    "width": 2
                  },
                  "marker": {
                    "size": 5
                  },
                  "mode": "lines+markers",
                  "name": "R₀ = 0.50",
                  "type": "scatter",
                  "x": {
                    "bdata": "AAECAwQFBgcICQoLDA0ODxAREhM=",
                    "dtype": "i1"
                  },
                  "y": {
                    "bdata": "AAAAAAAA8D93Sgfr/xzgPydO7ncoCtA//ACkNnFyvz/SOqqaIOquPyECDqFKzZ4/yv0ORYE+kT+kqgmi7gOAPyrj32dcOHA/oDcVqTC2YD+gNxWpMLZQP2kdVU0QdT8/8WjjiLX4JD9pHVVNEHUfP/Fo44i1+PQ+8WjjiLX4BD8AAAAAAAAAAAAAAAAAAAAAAAAAAAAAAAAAAAAAAAAAAA==",
                    "dtype": "f8"
                  }
                },
                {
                  "line": {
                    "color": "#EF553B",
                    "width": 2
                  },
                  "marker": {
                    "size": 5
                  },
                  "mode": "lines+markers",
                  "name": "R₀ = 0.90",
                  "type": "scatter",
                  "x": {
                    "bdata": "AAECAwQFBgcICQoLDA0ODxAREhM=",
                    "dtype": "i1"
                  },
                  "y": {
                    "bdata": "AAAAAAAA8D9jEFg5tMjsP4bOa+wS1ek/CCXMtP0r5z+DF30FacbkP3Mprir7ruI/yjLEsS5u4T8OWd3qOendPw+5GW7A59s/lPYGX5hM2T/FSzeJQWDVP9fdPNUhN9M/wOeHEcKj0T9L6gQ0ETbQP8mTpGsm38w/kxgEVg4tyj8C1NSytb7IP952oblOI8U/vk1/9iNFxD/D8BExJZLAPw==",
                    "dtype": "f8"
                  }
                },
                {
                  "line": {
                    "color": "#00CC96",
                    "width": 2
                  },
                  "marker": {
                    "size": 5
                  },
                  "mode": "lines+markers",
                  "name": "R₀ = 1.00",
                  "type": "scatter",
                  "x": {
                    "bdata": "AAECAwQFBgcICQoLDA0ODxAREhM=",
                    "dtype": "i1"
                  },
                  "y": {
                    "bdata": "AAAAAAAA8D86deWzPA/wPxg5C3va4e8/nfnVHCCY7z8hJAuYwK3vP9ixEYjX9e8/bqMBvAUS8D8QzNHj9zbwP0EOSphp++8/c4Bgjh6/7z+BBMWPMXfvP5r1Yign2u8/1sqEX+rn7z+uwJDVrZ7vP706x4Ds9e4/V+wvuycP8D9UUiegibDvP+44RUdy+e8/1XjpJjEI8D+Cyvj3GRfwPw==",
                    "dtype": "f8"
                  }
                },
                {
                  "line": {
                    "color": "#AB63FA",
                    "width": 2
                  },
                  "marker": {
                    "size": 5
                  },
                  "mode": "lines+markers",
                  "name": "R₀ = 1.10",
                  "type": "scatter",
                  "x": {
                    "bdata": "AAECAwQFBgcICQoLDA0ODxAREhM=",
                    "dtype": "i1"
                  },
                  "y": {
                    "bdata": "AAAAAAAA8D9Ra5p3nKLxP9IdxM4UOvM/kGtDxTh/9T+w/s9hvrz3P6mkTkATYfk/bFuU2SCT/D8lWBzO/Gr/P9jYJaq3BgFAqn06HjPQAkDZzvdT46UEQFfABG7dzQZARBfUt8zpCEAMk6mCUUkLQE0ychb2tA1A04cuqG/ZEEBqEyf3OxQSQECk374OXBRAfFwbKsa5FkBxsaIG03AYQA==",
                    "dtype": "f8"
                  }
                },
                {
                  "line": {
                    "color": "#FFA15A",
                    "width": 2
                  },
                  "marker": {
                    "size": 5
                  },
                  "mode": "lines+markers",
                  "name": "R₀ = 1.50",
                  "type": "scatter",
                  "x": {
                    "bdata": "AAECAwQFBgcICQoLDA0ODxAREhM=",
                    "dtype": "i1"
                  },
                  "y": {
                    "bdata": "AAAAAAAA8D9OnNzvUBT4P9sWZTbIJAJA8Uv9vKlIC0DiehSuRyEUQOhNRSqMbR5AwhcmUwXjJkDgvg6cMzIxQGowDcNHpDlAv7fpz34kQ0DBmgMEcwxNQKNdhZSfvFVAZmZmZmYwYEBszywJUEVoQN3qOel9Z3JAxJlfzQEne0CGvyZr1JeEQCaIug9A/I5AOxkcJa8/l0B3+GuyZkWhQA==",
                    "dtype": "f8"
                  }
                }
              ],
              "layout": {
                "hovermode": "x unified",
                "legend": {
                  "title": {
                    "text": "R₀ Values"
                  }
                },
                "template": {
                  "data": {
                    "bar": [
                      {
                        "error_x": {
                          "color": "#2a3f5f"
                        },
                        "error_y": {
                          "color": "#2a3f5f"
                        },
                        "marker": {
                          "line": {
                            "color": "white",
                            "width": 0.5
                          },
                          "pattern": {
                            "fillmode": "overlay",
                            "size": 10,
                            "solidity": 0.2
                          }
                        },
                        "type": "bar"
                      }
                    ],
                    "barpolar": [
                      {
                        "marker": {
                          "line": {
                            "color": "white",
                            "width": 0.5
                          },
                          "pattern": {
                            "fillmode": "overlay",
                            "size": 10,
                            "solidity": 0.2
                          }
                        },
                        "type": "barpolar"
                      }
                    ],
                    "carpet": [
                      {
                        "aaxis": {
                          "endlinecolor": "#2a3f5f",
                          "gridcolor": "#C8D4E3",
                          "linecolor": "#C8D4E3",
                          "minorgridcolor": "#C8D4E3",
                          "startlinecolor": "#2a3f5f"
                        },
                        "baxis": {
                          "endlinecolor": "#2a3f5f",
                          "gridcolor": "#C8D4E3",
                          "linecolor": "#C8D4E3",
                          "minorgridcolor": "#C8D4E3",
                          "startlinecolor": "#2a3f5f"
                        },
                        "type": "carpet"
                      }
                    ],
                    "choropleth": [
                      {
                        "colorbar": {
                          "outlinewidth": 0,
                          "ticks": ""
                        },
                        "type": "choropleth"
                      }
                    ],
                    "contour": [
                      {
                        "colorbar": {
                          "outlinewidth": 0,
                          "ticks": ""
                        },
                        "colorscale": [
                          [
                            0,
                            "#0d0887"
                          ],
                          [
                            0.1111111111111111,
                            "#46039f"
                          ],
                          [
                            0.2222222222222222,
                            "#7201a8"
                          ],
                          [
                            0.3333333333333333,
                            "#9c179e"
                          ],
                          [
                            0.4444444444444444,
                            "#bd3786"
                          ],
                          [
                            0.5555555555555556,
                            "#d8576b"
                          ],
                          [
                            0.6666666666666666,
                            "#ed7953"
                          ],
                          [
                            0.7777777777777778,
                            "#fb9f3a"
                          ],
                          [
                            0.8888888888888888,
                            "#fdca26"
                          ],
                          [
                            1,
                            "#f0f921"
                          ]
                        ],
                        "type": "contour"
                      }
                    ],
                    "contourcarpet": [
                      {
                        "colorbar": {
                          "outlinewidth": 0,
                          "ticks": ""
                        },
                        "type": "contourcarpet"
                      }
                    ],
                    "heatmap": [
                      {
                        "colorbar": {
                          "outlinewidth": 0,
                          "ticks": ""
                        },
                        "colorscale": [
                          [
                            0,
                            "#0d0887"
                          ],
                          [
                            0.1111111111111111,
                            "#46039f"
                          ],
                          [
                            0.2222222222222222,
                            "#7201a8"
                          ],
                          [
                            0.3333333333333333,
                            "#9c179e"
                          ],
                          [
                            0.4444444444444444,
                            "#bd3786"
                          ],
                          [
                            0.5555555555555556,
                            "#d8576b"
                          ],
                          [
                            0.6666666666666666,
                            "#ed7953"
                          ],
                          [
                            0.7777777777777778,
                            "#fb9f3a"
                          ],
                          [
                            0.8888888888888888,
                            "#fdca26"
                          ],
                          [
                            1,
                            "#f0f921"
                          ]
                        ],
                        "type": "heatmap"
                      }
                    ],
                    "histogram": [
                      {
                        "marker": {
                          "pattern": {
                            "fillmode": "overlay",
                            "size": 10,
                            "solidity": 0.2
                          }
                        },
                        "type": "histogram"
                      }
                    ],
                    "histogram2d": [
                      {
                        "colorbar": {
                          "outlinewidth": 0,
                          "ticks": ""
                        },
                        "colorscale": [
                          [
                            0,
                            "#0d0887"
                          ],
                          [
                            0.1111111111111111,
                            "#46039f"
                          ],
                          [
                            0.2222222222222222,
                            "#7201a8"
                          ],
                          [
                            0.3333333333333333,
                            "#9c179e"
                          ],
                          [
                            0.4444444444444444,
                            "#bd3786"
                          ],
                          [
                            0.5555555555555556,
                            "#d8576b"
                          ],
                          [
                            0.6666666666666666,
                            "#ed7953"
                          ],
                          [
                            0.7777777777777778,
                            "#fb9f3a"
                          ],
                          [
                            0.8888888888888888,
                            "#fdca26"
                          ],
                          [
                            1,
                            "#f0f921"
                          ]
                        ],
                        "type": "histogram2d"
                      }
                    ],
                    "histogram2dcontour": [
                      {
                        "colorbar": {
                          "outlinewidth": 0,
                          "ticks": ""
                        },
                        "colorscale": [
                          [
                            0,
                            "#0d0887"
                          ],
                          [
                            0.1111111111111111,
                            "#46039f"
                          ],
                          [
                            0.2222222222222222,
                            "#7201a8"
                          ],
                          [
                            0.3333333333333333,
                            "#9c179e"
                          ],
                          [
                            0.4444444444444444,
                            "#bd3786"
                          ],
                          [
                            0.5555555555555556,
                            "#d8576b"
                          ],
                          [
                            0.6666666666666666,
                            "#ed7953"
                          ],
                          [
                            0.7777777777777778,
                            "#fb9f3a"
                          ],
                          [
                            0.8888888888888888,
                            "#fdca26"
                          ],
                          [
                            1,
                            "#f0f921"
                          ]
                        ],
                        "type": "histogram2dcontour"
                      }
                    ],
                    "mesh3d": [
                      {
                        "colorbar": {
                          "outlinewidth": 0,
                          "ticks": ""
                        },
                        "type": "mesh3d"
                      }
                    ],
                    "parcoords": [
                      {
                        "line": {
                          "colorbar": {
                            "outlinewidth": 0,
                            "ticks": ""
                          }
                        },
                        "type": "parcoords"
                      }
                    ],
                    "pie": [
                      {
                        "automargin": true,
                        "type": "pie"
                      }
                    ],
                    "scatter": [
                      {
                        "fillpattern": {
                          "fillmode": "overlay",
                          "size": 10,
                          "solidity": 0.2
                        },
                        "type": "scatter"
                      }
                    ],
                    "scatter3d": [
                      {
                        "line": {
                          "colorbar": {
                            "outlinewidth": 0,
                            "ticks": ""
                          }
                        },
                        "marker": {
                          "colorbar": {
                            "outlinewidth": 0,
                            "ticks": ""
                          }
                        },
                        "type": "scatter3d"
                      }
                    ],
                    "scattercarpet": [
                      {
                        "marker": {
                          "colorbar": {
                            "outlinewidth": 0,
                            "ticks": ""
                          }
                        },
                        "type": "scattercarpet"
                      }
                    ],
                    "scattergeo": [
                      {
                        "marker": {
                          "colorbar": {
                            "outlinewidth": 0,
                            "ticks": ""
                          }
                        },
                        "type": "scattergeo"
                      }
                    ],
                    "scattergl": [
                      {
                        "marker": {
                          "colorbar": {
                            "outlinewidth": 0,
                            "ticks": ""
                          }
                        },
                        "type": "scattergl"
                      }
                    ],
                    "scattermap": [
                      {
                        "marker": {
                          "colorbar": {
                            "outlinewidth": 0,
                            "ticks": ""
                          }
                        },
                        "type": "scattermap"
                      }
                    ],
                    "scattermapbox": [
                      {
                        "marker": {
                          "colorbar": {
                            "outlinewidth": 0,
                            "ticks": ""
                          }
                        },
                        "type": "scattermapbox"
                      }
                    ],
                    "scatterpolar": [
                      {
                        "marker": {
                          "colorbar": {
                            "outlinewidth": 0,
                            "ticks": ""
                          }
                        },
                        "type": "scatterpolar"
                      }
                    ],
                    "scatterpolargl": [
                      {
                        "marker": {
                          "colorbar": {
                            "outlinewidth": 0,
                            "ticks": ""
                          }
                        },
                        "type": "scatterpolargl"
                      }
                    ],
                    "scatterternary": [
                      {
                        "marker": {
                          "colorbar": {
                            "outlinewidth": 0,
                            "ticks": ""
                          }
                        },
                        "type": "scatterternary"
                      }
                    ],
                    "surface": [
                      {
                        "colorbar": {
                          "outlinewidth": 0,
                          "ticks": ""
                        },
                        "colorscale": [
                          [
                            0,
                            "#0d0887"
                          ],
                          [
                            0.1111111111111111,
                            "#46039f"
                          ],
                          [
                            0.2222222222222222,
                            "#7201a8"
                          ],
                          [
                            0.3333333333333333,
                            "#9c179e"
                          ],
                          [
                            0.4444444444444444,
                            "#bd3786"
                          ],
                          [
                            0.5555555555555556,
                            "#d8576b"
                          ],
                          [
                            0.6666666666666666,
                            "#ed7953"
                          ],
                          [
                            0.7777777777777778,
                            "#fb9f3a"
                          ],
                          [
                            0.8888888888888888,
                            "#fdca26"
                          ],
                          [
                            1,
                            "#f0f921"
                          ]
                        ],
                        "type": "surface"
                      }
                    ],
                    "table": [
                      {
                        "cells": {
                          "fill": {
                            "color": "#EBF0F8"
                          },
                          "line": {
                            "color": "white"
                          }
                        },
                        "header": {
                          "fill": {
                            "color": "#C8D4E3"
                          },
                          "line": {
                            "color": "white"
                          }
                        },
                        "type": "table"
                      }
                    ]
                  },
                  "layout": {
                    "annotationdefaults": {
                      "arrowcolor": "#2a3f5f",
                      "arrowhead": 0,
                      "arrowwidth": 1
                    },
                    "autotypenumbers": "strict",
                    "coloraxis": {
                      "colorbar": {
                        "outlinewidth": 0,
                        "ticks": ""
                      }
                    },
                    "colorscale": {
                      "diverging": [
                        [
                          0,
                          "#8e0152"
                        ],
                        [
                          0.1,
                          "#c51b7d"
                        ],
                        [
                          0.2,
                          "#de77ae"
                        ],
                        [
                          0.3,
                          "#f1b6da"
                        ],
                        [
                          0.4,
                          "#fde0ef"
                        ],
                        [
                          0.5,
                          "#f7f7f7"
                        ],
                        [
                          0.6,
                          "#e6f5d0"
                        ],
                        [
                          0.7,
                          "#b8e186"
                        ],
                        [
                          0.8,
                          "#7fbc41"
                        ],
                        [
                          0.9,
                          "#4d9221"
                        ],
                        [
                          1,
                          "#276419"
                        ]
                      ],
                      "sequential": [
                        [
                          0,
                          "#0d0887"
                        ],
                        [
                          0.1111111111111111,
                          "#46039f"
                        ],
                        [
                          0.2222222222222222,
                          "#7201a8"
                        ],
                        [
                          0.3333333333333333,
                          "#9c179e"
                        ],
                        [
                          0.4444444444444444,
                          "#bd3786"
                        ],
                        [
                          0.5555555555555556,
                          "#d8576b"
                        ],
                        [
                          0.6666666666666666,
                          "#ed7953"
                        ],
                        [
                          0.7777777777777778,
                          "#fb9f3a"
                        ],
                        [
                          0.8888888888888888,
                          "#fdca26"
                        ],
                        [
                          1,
                          "#f0f921"
                        ]
                      ],
                      "sequentialminus": [
                        [
                          0,
                          "#0d0887"
                        ],
                        [
                          0.1111111111111111,
                          "#46039f"
                        ],
                        [
                          0.2222222222222222,
                          "#7201a8"
                        ],
                        [
                          0.3333333333333333,
                          "#9c179e"
                        ],
                        [
                          0.4444444444444444,
                          "#bd3786"
                        ],
                        [
                          0.5555555555555556,
                          "#d8576b"
                        ],
                        [
                          0.6666666666666666,
                          "#ed7953"
                        ],
                        [
                          0.7777777777777778,
                          "#fb9f3a"
                        ],
                        [
                          0.8888888888888888,
                          "#fdca26"
                        ],
                        [
                          1,
                          "#f0f921"
                        ]
                      ]
                    },
                    "colorway": [
                      "#636efa",
                      "#EF553B",
                      "#00cc96",
                      "#ab63fa",
                      "#FFA15A",
                      "#19d3f3",
                      "#FF6692",
                      "#B6E880",
                      "#FF97FF",
                      "#FECB52"
                    ],
                    "font": {
                      "color": "#2a3f5f"
                    },
                    "geo": {
                      "bgcolor": "white",
                      "lakecolor": "white",
                      "landcolor": "white",
                      "showlakes": true,
                      "showland": true,
                      "subunitcolor": "#C8D4E3"
                    },
                    "hoverlabel": {
                      "align": "left"
                    },
                    "hovermode": "closest",
                    "mapbox": {
                      "style": "light"
                    },
                    "paper_bgcolor": "white",
                    "plot_bgcolor": "white",
                    "polar": {
                      "angularaxis": {
                        "gridcolor": "#EBF0F8",
                        "linecolor": "#EBF0F8",
                        "ticks": ""
                      },
                      "bgcolor": "white",
                      "radialaxis": {
                        "gridcolor": "#EBF0F8",
                        "linecolor": "#EBF0F8",
                        "ticks": ""
                      }
                    },
                    "scene": {
                      "xaxis": {
                        "backgroundcolor": "white",
                        "gridcolor": "#DFE8F3",
                        "gridwidth": 2,
                        "linecolor": "#EBF0F8",
                        "showbackground": true,
                        "ticks": "",
                        "zerolinecolor": "#EBF0F8"
                      },
                      "yaxis": {
                        "backgroundcolor": "white",
                        "gridcolor": "#DFE8F3",
                        "gridwidth": 2,
                        "linecolor": "#EBF0F8",
                        "showbackground": true,
                        "ticks": "",
                        "zerolinecolor": "#EBF0F8"
                      },
                      "zaxis": {
                        "backgroundcolor": "white",
                        "gridcolor": "#DFE8F3",
                        "gridwidth": 2,
                        "linecolor": "#EBF0F8",
                        "showbackground": true,
                        "ticks": "",
                        "zerolinecolor": "#EBF0F8"
                      }
                    },
                    "shapedefaults": {
                      "line": {
                        "color": "#2a3f5f"
                      }
                    },
                    "ternary": {
                      "aaxis": {
                        "gridcolor": "#DFE8F3",
                        "linecolor": "#A2B1C6",
                        "ticks": ""
                      },
                      "baxis": {
                        "gridcolor": "#DFE8F3",
                        "linecolor": "#A2B1C6",
                        "ticks": ""
                      },
                      "bgcolor": "white",
                      "caxis": {
                        "gridcolor": "#DFE8F3",
                        "linecolor": "#A2B1C6",
                        "ticks": ""
                      }
                    },
                    "title": {
                      "x": 0.05
                    },
                    "xaxis": {
                      "automargin": true,
                      "gridcolor": "#EBF0F8",
                      "linecolor": "#EBF0F8",
                      "ticks": "",
                      "title": {
                        "standoff": 15
                      },
                      "zerolinecolor": "#EBF0F8",
                      "zerolinewidth": 2
                    },
                    "yaxis": {
                      "automargin": true,
                      "gridcolor": "#EBF0F8",
                      "linecolor": "#EBF0F8",
                      "ticks": "",
                      "title": {
                        "standoff": 15
                      },
                      "zerolinecolor": "#EBF0F8",
                      "zerolinewidth": 2
                    }
                  }
                },
                "title": {
                  "text": "Interactive Epidemic Growth Comparison Across R₀ Values"
                },
                "xaxis": {
                  "title": {
                    "text": "Generation"
                  }
                },
                "yaxis": {
                  "title": {
                    "text": "Mean Infections"
                  }
                }
              }
            }
          },
          "metadata": {},
          "output_type": "display_data"
        }
      ],
      "source": [
        "# interactive R0 vs infections\n",
        "def plot_interactive_r0_comparison(df):\n",
        "    fig = go.Figure()\n",
        "\n",
        "    # Generate a color palette\n",
        "    unique_r0s = sorted(df['r0'].unique())\n",
        "    colors = px.colors.qualitative.Plotly\n",
        "\n",
        "    for idx, r0 in enumerate(unique_r0s):\n",
        "        subset = df[df['r0'] == r0]\n",
        "        fig.add_trace(go.Scatter(\n",
        "            x=subset['generation'],\n",
        "            y=subset['avg_infections'],\n",
        "            mode='lines+markers',\n",
        "            name=f'R₀ = {r0:.2f}',\n",
        "            line=dict(width=2, color=colors[idx % len(colors)]),\n",
        "            marker=dict(size=5)\n",
        "        ))\n",
        "\n",
        "    fig.update_layout(\n",
        "        title=\"Interactive Epidemic Growth Comparison Across R₀ Values\",\n",
        "        xaxis_title=\"Generation\",\n",
        "        yaxis_title=\"Mean Infections\",\n",
        "        legend_title=\"R₀ Values\",\n",
        "        template='plotly_white',\n",
        "        hovermode='x unified'\n",
        "    )\n",
        "\n",
        "    fig.show()\n",
        "\n",
        "\n",
        "plot_interactive_r0_comparison(df)\n"
      ]
    },
    {
      "cell_type": "code",
      "execution_count": 10,
      "metadata": {
        "colab": {
          "base_uri": "https://localhost:8080/",
          "height": 607
        },
        "id": "OkFUTsX3Md-g",
        "outputId": "3a343e02-c053-44c0-f816-f61a9acaf5a2"
      },
      "outputs": [
        {
          "data": {
            "image/png": "[encoded data removed]",
            "text/plain": [
              "<Figure size 1000x600 with 2 Axes>"
            ]
          },
          "metadata": {},
          "output_type": "display_data"
        }
      ],
      "source": [
        "def plot_extinction_vs_infection(df):\n",
        "    fig, ax = plt.subplots(figsize=(10, 6))  # Create a figure and an axes\n",
        "\n",
        "    # Unique R₀ values for grouping\n",
        "    unique_r0s = df['r0'].unique()\n",
        "    norm = plt.Normalize(df['r0'].min(), df['r0'].max())\n",
        "    cmap = plt.cm.viridis\n",
        "\n",
        "    for r0_value in unique_r0s:\n",
        "        subset = df[df['r0'] == r0_value].sort_values(by='avg_infections')\n",
        "        color = cmap(norm(r0_value))\n",
        "\n",
        "        # Line connecting points of the same R₀\n",
        "        ax.plot( # Plot on the axes object\n",
        "            subset['avg_infections'],\n",
        "            subset['avg_extinction_prob'],\n",
        "            color=color,\n",
        "            alpha=0.7,\n",
        "            linewidth=2\n",
        "        )\n",
        "\n",
        "        # Scatter points on top\n",
        "        ax.scatter( # Plot on the axes object\n",
        "            subset['avg_infections'],\n",
        "            subset['avg_extinction_prob'],\n",
        "            color=color,\n",
        "            edgecolor='k',\n",
        "            label=f'R₀ = {r0_value:.2f}',\n",
        "            alpha=0.8\n",
        "        )\n",
        "\n",
        "    sm = plt.cm.ScalarMappable(cmap=cmap, norm=norm)\n",
        "    cbar = fig.colorbar(sm, ax=ax)  # Add colorbar to the figure, specifying the axes\n",
        "    cbar.set_label('R₀ Value', rotation=270, labelpad=15)\n",
        "\n",
        "    ax.set_title('Mean Extinction Probability vs. Mean Infections') # Set title using the axes object\n",
        "    ax.set_xlabel('Mean Infections') # Set xlabel using the axes object\n",
        "    ax.set_ylabel('Mean Extinction Probability') # Set ylabel using the axes object\n",
        "    ax.grid(True)\n",
        "    plt.tight_layout()\n",
        "    plt.show()\n",
        "\n",
        "plot_extinction_vs_infection(df)"
      ]
    },
    {
      "cell_type": "code",
      "execution_count": 11,
      "metadata": {
        "colab": {
          "base_uri": "https://localhost:8080/",
          "height": 542
        },
        "id": "qL1Lrszn7Hl6",
        "outputId": "525a1a98-3012-4db2-b12b-26f4dcb42156"
      },
      "outputs": [
        {
          "data": {
            "application/vnd.plotly.v1+json": {
              "config": {
                "plotlyServerURL": "https://plot.ly"
              },
              "data": [
                {
                  "customdata": {
                    "bdata": "AAAAAAAA4D8AAAAAAADgPwAAAAAAAOA/AAAAAAAA4D8AAAAAAADgPwAAAAAAAOA/AAAAAAAA4D8AAAAAAADgPwAAAAAAAOA/AAAAAAAA4D8AAAAAAADgPwAAAAAAAOA/AAAAAAAA4D8AAAAAAADgPwAAAAAAAOA/AAAAAAAA4D8AAAAAAADgPwAAAAAAAOA/AAAAAAAA4D8AAAAAAADgP83MzMzMzOw/zczMzMzM7D/NzMzMzMzsP83MzMzMzOw/zczMzMzM7D/NzMzMzMzsP83MzMzMzOw/zczMzMzM7D/NzMzMzMzsP83MzMzMzOw/zczMzMzM7D/NzMzMzMzsP83MzMzMzOw/zczMzMzM7D/NzMzMzMzsP83MzMzMzOw/zczMzMzM7D/NzMzMzMzsP83MzMzMzOw/zczMzMzM7D8AAAAAAADwPwAAAAAAAPA/AAAAAAAA8D8AAAAAAADwPwAAAAAAAPA/AAAAAAAA8D8AAAAAAADwPwAAAAAAAPA/AAAAAAAA8D8AAAAAAADwPwAAAAAAAPA/AAAAAAAA8D8AAAAAAADwPwAAAAAAAPA/AAAAAAAA8D8AAAAAAADwPwAAAAAAAPA/AAAAAAAA8D8AAAAAAADwPwAAAAAAAPA/mpmZmZmZ8T+amZmZmZnxP5qZmZmZmfE/mpmZmZmZ8T+amZmZmZnxP5qZmZmZmfE/mpmZmZmZ8T+amZmZmZnxP5qZmZmZmfE/mpmZmZmZ8T+amZmZmZnxP5qZmZmZmfE/mpmZmZmZ8T+amZmZmZnxP5qZmZmZmfE/mpmZmZmZ8T+amZmZmZnxP5qZmZmZmfE/mpmZmZmZ8T+amZmZmZnxPwAAAAAAAPg/AAAAAAAA+D8AAAAAAAD4PwAAAAAAAPg/AAAAAAAA+D8AAAAAAAD4PwAAAAAAAPg/AAAAAAAA+D8AAAAAAAD4PwAAAAAAAPg/AAAAAAAA+D8AAAAAAAD4PwAAAAAAAPg/AAAAAAAA+D8AAAAAAAD4PwAAAAAAAPg/AAAAAAAA+D8AAAAAAAD4PwAAAAAAAPg/AAAAAAAA+D8=",
                    "dtype": "f8",
                    "shape": "100, 1"
                  },
                  "hovertemplate": "Mean Infections=%{x}<br>Mean Extinction Probability=%{y}<br>R₀ Value=%{marker.color}<extra></extra>",
                  "legendgroup": "",
                  "marker": {
                    "color": {
                      "bdata": "AAAAAAAA4D8AAAAAAADgPwAAAAAAAOA/AAAAAAAA4D8AAAAAAADgPwAAAAAAAOA/AAAAAAAA4D8AAAAAAADgPwAAAAAAAOA/AAAAAAAA4D8AAAAAAADgPwAAAAAAAOA/AAAAAAAA4D8AAAAAAADgPwAAAAAAAOA/AAAAAAAA4D8AAAAAAADgPwAAAAAAAOA/AAAAAAAA4D8AAAAAAADgP83MzMzMzOw/zczMzMzM7D/NzMzMzMzsP83MzMzMzOw/zczMzMzM7D/NzMzMzMzsP83MzMzMzOw/zczMzMzM7D/NzMzMzMzsP83MzMzMzOw/zczMzMzM7D/NzMzMzMzsP83MzMzMzOw/zczMzMzM7D/NzMzMzMzsP83MzMzMzOw/zczMzMzM7D/NzMzMzMzsP83MzMzMzOw/zczMzMzM7D8AAAAAAADwPwAAAAAAAPA/AAAAAAAA8D8AAAAAAADwPwAAAAAAAPA/AAAAAAAA8D8AAAAAAADwPwAAAAAAAPA/AAAAAAAA8D8AAAAAAADwPwAAAAAAAPA/AAAAAAAA8D8AAAAAAADwPwAAAAAAAPA/AAAAAAAA8D8AAAAAAADwPwAAAAAAAPA/AAAAAAAA8D8AAAAAAADwPwAAAAAAAPA/mpmZmZmZ8T+amZmZmZnxP5qZmZmZmfE/mpmZmZmZ8T+amZmZmZnxP5qZmZmZmfE/mpmZmZmZ8T+amZmZmZnxP5qZmZmZmfE/mpmZmZmZ8T+amZmZmZnxP5qZmZmZmfE/mpmZmZmZ8T+amZmZmZnxP5qZmZmZmfE/mpmZmZmZ8T+amZmZmZnxP5qZmZmZmfE/mpmZmZmZ8T+amZmZmZnxPwAAAAAAAPg/AAAAAAAA+D8AAAAAAAD4PwAAAAAAAPg/AAAAAAAA+D8AAAAAAAD4PwAAAAAAAPg/AAAAAAAA+D8AAAAAAAD4PwAAAAAAAPg/AAAAAAAA+D8AAAAAAAD4PwAAAAAAAPg/AAAAAAAA+D8AAAAAAAD4PwAAAAAAAPg/AAAAAAAA+D8AAAAAAAD4PwAAAAAAAPg/AAAAAAAA+D8=",
                      "dtype": "f8"
                    },
                    "coloraxis": "coloraxis",
                    "symbol": "circle"
                  },
                  "mode": "markers",
                  "name": "",
                  "orientation": "v",
                  "showlegend": false,
                  "type": "scatter",
                  "x": {
                    "bdata": "AAAAAAAA8D93Sgfr/xzgPydO7ncoCtA//ACkNnFyvz/SOqqaIOquPyECDqFKzZ4/yv0ORYE+kT+kqgmi7gOAPyrj32dcOHA/oDcVqTC2YD+gNxWpMLZQP2kdVU0QdT8/8WjjiLX4JD9pHVVNEHUfP/Fo44i1+PQ+8WjjiLX4BD8AAAAAAAAAAAAAAAAAAAAAAAAAAAAAAAAAAAAAAAAAAAAAAAAAAPA/YxBYObTI7D+GzmvsEtXpPwglzLT9K+c/gxd9BWnG5D9zKa4q+67iP8oyxLEubuE/Dlnd6jnp3T8PuRluwOfbP5T2Bl+YTNk/xUs3iUFg1T/X3TzVITfTP8DnhxHCo9E/S+oENBE20D/Jk6RrJt/MP5MYBFYOLco/AtTUsrW+yD/edqG5TiPFP75Nf/YjRcQ/w/ARMSWSwD8AAAAAAADwPzp15bM8D/A/GDkLe9rh7z+d+dUcIJjvPyEkC5jAre8/2LERiNf17z9uowG8BRLwPxDM0eP3NvA/QQ5KmGn77z9zgGCOHr/vP4EExY8xd+8/mvViKCfa7z/WyoRf6ufvP67AkNWtnu8/vTrHgOz17j9X7C+7Jw/wP1RSJ6CJsO8/7jhFR3L57z/VeOkmMQjwP4LK+PcZF/A/AAAAAAAA8D9Ra5p3nKLxP9IdxM4UOvM/kGtDxTh/9T+w/s9hvrz3P6mkTkATYfk/bFuU2SCT/D8lWBzO/Gr/P9jYJaq3BgFAqn06HjPQAkDZzvdT46UEQFfABG7dzQZARBfUt8zpCEAMk6mCUUkLQE0ychb2tA1A04cuqG/ZEEBqEyf3OxQSQECk374OXBRAfFwbKsa5FkBxsaIG03AYQAAAAAAAAPA/Tpzc71AU+D/bFmU2yCQCQPFL/bypSAtA4noUrkchFEDoTUUqjG0eQMIXJlMF4yZA4L4OnDMyMUBqMA3DR6Q5QL+36c9+JENAwZoDBHMMTUCjXYWUn7xVQGZmZmZmMGBAbM8sCVBFaEDd6jnpfWdyQMSZX80BJ3tAhr8ma9SXhEAmiLoPQPyOQDsZHCWvP5dAd/hrsmZFoUA=",
                    "dtype": "f8"
                  },
                  "xaxis": "x",
                  "y": {
                    "bdata": "AAAAAAAA8D8AAAAAAADwPwAAAAAAAPA/AAAAAAAA8D8AAAAAAADwPwAAAAAAAPA/AAAAAAAA8D8AAAAAAADwPwAAAAAAAPA/AAAAAAAA8D8AAAAAAADwPzjulA7W/+8/AAAAAAAA8D8AAAAAAADwPwAAAAAAAPA/AAAAAAAA8D8AAAAAAADwPwAAAAAAAPA/AAAAAAAA8D8AAAAAAADwP7ivA+eMKO8/1FbsL7sn7z8t7GmHvybvPwzlRLsKKe8/UVPL1voi7z/8HYoCfSLvPyFseHqlLO8/QBNhw9Mr7z9yuiwmNh/vP1jTvOMUHe8/4V0u4jsx7z+USKKXUSzvP8O2RZkNMu8/ug9AahMn7z/uPVxy3CnvP2ba/pWVJu8/lyGOdXEb7z/g1t081SHvP/EWSFD8GO8/ug9AahMn7z9TBaOSOgHtP9NvXwfOGe0/hVrTvOMU7T90kxgEVg7tP18M5US7Cu0/jKGcaFch7T+MGkzD8BHtP/yWOV0WE+0/9NbAVgkW7T/JyFnY0w7tP68I/reSHe0/BRcrajAN7T+Jug9AahPtP+pWz0nvG+0/V3OAYI4e7T8qBd1e0hjtPz8FwHgGDe0/seHplbIM7T8AV7JjIxDtP1aM8zehEO0/zOAoeXWO6T8EfSJPkq7pPzpdFhObj+k/IU+Srpl86T9zxFp8CoDpP+F1/YLdsOk/Gy/dJAaB6T+OklfnGJDpP9suNNdppOk/D11Q3zKn6T+FIAclzLTpP0Y9RKM7iOk/iPnyAuyj6T/27o/3qpXpP+XVOQZkr+k/D9b/OcyX6T/SrkLKT6rpP8PAc+/hkuk/M52dDI6S6T+c+dUcIJjpP7xXrUz4pdo/dQKaCBue2j97SWO0jqraP9SQuMfSh9o/YYkHlE252j+jHqLRHcTaPxxtHLEWn9o/dQKaCBue2j9oSYCaWrbaP8nlP6Tfvto/Afvo1JXP2j8ErcCQ1a3aP4VCBBxCldo/v9798V612j+XkA96NqvaP1qeB3dn7do/w552+Guy2j990LNZ9bnaPzN7oBUYsto/gIKLFTWY2j8=",
                    "dtype": "f8"
                  },
                  "yaxis": "y"
                },
                {
                  "line": {
                    "color": "#31688e",
                    "dash": "solid"
                  },
                  "marker": {
                    "size": 8
                  },
                  "mode": "lines+markers",
                  "name": "R₀ = 0.50",
                  "type": "scatter",
                  "x": {
                    "bdata": "AAAAAAAA8D93Sgfr/xzgPydO7ncoCtA//ACkNnFyvz/SOqqaIOquPyECDqFKzZ4/yv0ORYE+kT+kqgmi7gOAPyrj32dcOHA/oDcVqTC2YD+gNxWpMLZQP2kdVU0QdT8/8WjjiLX4JD9pHVVNEHUfP/Fo44i1+PQ+8WjjiLX4BD8AAAAAAAAAAAAAAAAAAAAAAAAAAAAAAAAAAAAAAAAAAA==",
                    "dtype": "f8"
                  },
                  "y": {
                    "bdata": "AAAAAAAA8D8AAAAAAADwPwAAAAAAAPA/AAAAAAAA8D8AAAAAAADwPwAAAAAAAPA/AAAAAAAA8D8AAAAAAADwPwAAAAAAAPA/AAAAAAAA8D8AAAAAAADwPzjulA7W/+8/AAAAAAAA8D8AAAAAAADwPwAAAAAAAPA/AAAAAAAA8D8AAAAAAADwPwAAAAAAAPA/AAAAAAAA8D8AAAAAAADwPw==",
                    "dtype": "f8"
                  }
                },
                {
                  "line": {
                    "color": "#1f9e89",
                    "dash": "solid"
                  },
                  "marker": {
                    "size": 8
                  },
                  "mode": "lines+markers",
                  "name": "R₀ = 0.90",
                  "type": "scatter",
                  "x": {
                    "bdata": "AAAAAAAA8D9jEFg5tMjsP4bOa+wS1ek/CCXMtP0r5z+DF30FacbkP3Mprir7ruI/yjLEsS5u4T8OWd3qOendPw+5GW7A59s/lPYGX5hM2T/FSzeJQWDVP9fdPNUhN9M/wOeHEcKj0T9L6gQ0ETbQP8mTpGsm38w/kxgEVg4tyj8C1NSytb7IP952oblOI8U/vk1/9iNFxD/D8BExJZLAPw==",
                    "dtype": "f8"
                  },
                  "y": {
                    "bdata": "uK8D54wo7z/UVuwvuyfvPy3saYe/Ju8/DOVEuwop7z9RU8vW+iLvP/wdigJ9Iu8/IWx4eqUs7z9AE2HD0yvvP3K6LCY2H+8/WNO84xQd7z/hXS7iOzHvP5RIopdRLO8/w7ZFmQ0y7z+6D0BqEyfvP+49XHLcKe8/Ztr+lZUm7z+XIY51cRvvP+DW3TzVIe8/8RZIUPwY7z+6D0BqEyfvPw==",
                    "dtype": "f8"
                  }
                },
                {
                  "line": {
                    "color": "#35b779",
                    "dash": "solid"
                  },
                  "marker": {
                    "size": 8
                  },
                  "mode": "lines+markers",
                  "name": "R₀ = 1.00",
                  "type": "scatter",
                  "x": {
                    "bdata": "AAAAAAAA8D86deWzPA/wPxg5C3va4e8/nfnVHCCY7z8hJAuYwK3vP9ixEYjX9e8/bqMBvAUS8D8QzNHj9zbwP0EOSphp++8/c4Bgjh6/7z+BBMWPMXfvP5r1Yign2u8/1sqEX+rn7z+uwJDVrZ7vP706x4Ds9e4/V+wvuycP8D9UUiegibDvP+44RUdy+e8/1XjpJjEI8D+Cyvj3GRfwPw==",
                    "dtype": "f8"
                  },
                  "y": {
                    "bdata": "UwWjkjoB7T/Tb18HzhntP4Va07zjFO0/dJMYBFYO7T9fDOVEuwrtP4yhnGhXIe0/jBpMw/AR7T/8ljldFhPtP/TWwFYJFu0/ychZ2NMO7T+vCP63kh3tPwUXK2owDe0/iboPQGoT7T/qVs9J7xvtP1dzgGCOHu0/KgXdXtIY7T8/BcB4Bg3tP7Hh6ZWyDO0/AFeyYyMQ7T9WjPM3oRDtPw==",
                    "dtype": "f8"
                  }
                },
                {
                  "line": {
                    "color": "#35b779",
                    "dash": "solid"
                  },
                  "marker": {
                    "size": 8
                  },
                  "mode": "lines+markers",
                  "name": "R₀ = 1.10",
                  "type": "scatter",
                  "x": {
                    "bdata": "AAAAAAAA8D9Ra5p3nKLxP9IdxM4UOvM/kGtDxTh/9T+w/s9hvrz3P6mkTkATYfk/bFuU2SCT/D8lWBzO/Gr/P9jYJaq3BgFAqn06HjPQAkDZzvdT46UEQFfABG7dzQZARBfUt8zpCEAMk6mCUUkLQE0ychb2tA1A04cuqG/ZEEBqEyf3OxQSQECk374OXBRAfFwbKsa5FkBxsaIG03AYQA==",
                    "dtype": "f8"
                  },
                  "y": {
                    "bdata": "zOAoeXWO6T8EfSJPkq7pPzpdFhObj+k/IU+Srpl86T9zxFp8CoDpP+F1/YLdsOk/Gy/dJAaB6T+OklfnGJDpP9suNNdppOk/D11Q3zKn6T+FIAclzLTpP0Y9RKM7iOk/iPnyAuyj6T/27o/3qpXpP+XVOQZkr+k/D9b/OcyX6T/SrkLKT6rpP8PAc+/hkuk/M52dDI6S6T+c+dUcIJjpPw==",
                    "dtype": "f8"
                  }
                },
                {
                  "line": {
                    "color": "#fde725",
                    "dash": "solid"
                  },
                  "marker": {
                    "size": 8
                  },
                  "mode": "lines+markers",
                  "name": "R₀ = 1.50",
                  "type": "scatter",
                  "x": {
                    "bdata": "AAAAAAAA8D9OnNzvUBT4P9sWZTbIJAJA8Uv9vKlIC0DiehSuRyEUQOhNRSqMbR5AwhcmUwXjJkDgvg6cMzIxQGowDcNHpDlAv7fpz34kQ0DBmgMEcwxNQKNdhZSfvFVAZmZmZmYwYEBszywJUEVoQN3qOel9Z3JAxJlfzQEne0CGvyZr1JeEQCaIug9A/I5AOxkcJa8/l0B3+GuyZkWhQA==",
                    "dtype": "f8"
                  },
                  "y": {
                    "bdata": "vFetTPil2j91ApoIG57aP3tJY7SOqto/1JC4x9KH2j9hiQeUTbnaP6MeotEdxNo/HG0csRaf2j91ApoIG57aP2hJgJpatto/yeU/pN++2j8B++jUlc/aPwStwJDVrdo/hUIEHEKV2j+/3v3xXrXaP5eQD3o2q9o/Wp4Hd2ft2j/Dnnb4a7LaP33Qs1n1udo/M3ugFRiy2j+AgosVNZjaPw==",
                    "dtype": "f8"
                  }
                }
              ],
              "layout": {
                "coloraxis": {
                  "colorbar": {
                    "len": 0.75,
                    "tickmode": "array",
                    "ticktext": [
                      "0.50",
                      "1.50"
                    ],
                    "tickvals": [
                      0.5,
                      1.5
                    ],
                    "title": {
                      "text": "R₀ Value"
                    },
                    "x": 1.05
                  },
                  "colorscale": [
                    [
                      0,
                      "#440154"
                    ],
                    [
                      0.1111111111111111,
                      "#482878"
                    ],
                    [
                      0.2222222222222222,
                      "#3e4989"
                    ],
                    [
                      0.3333333333333333,
                      "#31688e"
                    ],
                    [
                      0.4444444444444444,
                      "#26828e"
                    ],
                    [
                      0.5555555555555556,
                      "#1f9e89"
                    ],
                    [
                      0.6666666666666666,
                      "#35b779"
                    ],
                    [
                      0.7777777777777778,
                      "#6ece58"
                    ],
                    [
                      0.8888888888888888,
                      "#b5de2b"
                    ],
                    [
                      1,
                      "#fde725"
                    ]
                  ]
                },
                "legend": {
                  "bgcolor": "rgba(255, 255, 255, 0.5)",
                  "bordercolor": "Black",
                  "borderwidth": 1,
                  "tracegroupgap": 0,
                  "traceorder": "normal",
                  "x": 1,
                  "y": 1.2
                },
                "template": {
                  "data": {
                    "bar": [
                      {
                        "error_x": {
                          "color": "#2a3f5f"
                        },
                        "error_y": {
                          "color": "#2a3f5f"
                        },
                        "marker": {
                          "line": {
                            "color": "white",
                            "width": 0.5
                          },
                          "pattern": {
                            "fillmode": "overlay",
                            "size": 10,
                            "solidity": 0.2
                          }
                        },
                        "type": "bar"
                      }
                    ],
                    "barpolar": [
                      {
                        "marker": {
                          "line": {
                            "color": "white",
                            "width": 0.5
                          },
                          "pattern": {
                            "fillmode": "overlay",
                            "size": 10,
                            "solidity": 0.2
                          }
                        },
                        "type": "barpolar"
                      }
                    ],
                    "carpet": [
                      {
                        "aaxis": {
                          "endlinecolor": "#2a3f5f",
                          "gridcolor": "#C8D4E3",
                          "linecolor": "#C8D4E3",
                          "minorgridcolor": "#C8D4E3",
                          "startlinecolor": "#2a3f5f"
                        },
                        "baxis": {
                          "endlinecolor": "#2a3f5f",
                          "gridcolor": "#C8D4E3",
                          "linecolor": "#C8D4E3",
                          "minorgridcolor": "#C8D4E3",
                          "startlinecolor": "#2a3f5f"
                        },
                        "type": "carpet"
                      }
                    ],
                    "choropleth": [
                      {
                        "colorbar": {
                          "outlinewidth": 0,
                          "ticks": ""
                        },
                        "type": "choropleth"
                      }
                    ],
                    "contour": [
                      {
                        "colorbar": {
                          "outlinewidth": 0,
                          "ticks": ""
                        },
                        "colorscale": [
                          [
                            0,
                            "#0d0887"
                          ],
                          [
                            0.1111111111111111,
                            "#46039f"
                          ],
                          [
                            0.2222222222222222,
                            "#7201a8"
                          ],
                          [
                            0.3333333333333333,
                            "#9c179e"
                          ],
                          [
                            0.4444444444444444,
                            "#bd3786"
                          ],
                          [
                            0.5555555555555556,
                            "#d8576b"
                          ],
                          [
                            0.6666666666666666,
                            "#ed7953"
                          ],
                          [
                            0.7777777777777778,
                            "#fb9f3a"
                          ],
                          [
                            0.8888888888888888,
                            "#fdca26"
                          ],
                          [
                            1,
                            "#f0f921"
                          ]
                        ],
                        "type": "contour"
                      }
                    ],
                    "contourcarpet": [
                      {
                        "colorbar": {
                          "outlinewidth": 0,
                          "ticks": ""
                        },
                        "type": "contourcarpet"
                      }
                    ],
                    "heatmap": [
                      {
                        "colorbar": {
                          "outlinewidth": 0,
                          "ticks": ""
                        },
                        "colorscale": [
                          [
                            0,
                            "#0d0887"
                          ],
                          [
                            0.1111111111111111,
                            "#46039f"
                          ],
                          [
                            0.2222222222222222,
                            "#7201a8"
                          ],
                          [
                            0.3333333333333333,
                            "#9c179e"
                          ],
                          [
                            0.4444444444444444,
                            "#bd3786"
                          ],
                          [
                            0.5555555555555556,
                            "#d8576b"
                          ],
                          [
                            0.6666666666666666,
                            "#ed7953"
                          ],
                          [
                            0.7777777777777778,
                            "#fb9f3a"
                          ],
                          [
                            0.8888888888888888,
                            "#fdca26"
                          ],
                          [
                            1,
                            "#f0f921"
                          ]
                        ],
                        "type": "heatmap"
                      }
                    ],
                    "histogram": [
                      {
                        "marker": {
                          "pattern": {
                            "fillmode": "overlay",
                            "size": 10,
                            "solidity": 0.2
                          }
                        },
                        "type": "histogram"
                      }
                    ],
                    "histogram2d": [
                      {
                        "colorbar": {
                          "outlinewidth": 0,
                          "ticks": ""
                        },
                        "colorscale": [
                          [
                            0,
                            "#0d0887"
                          ],
                          [
                            0.1111111111111111,
                            "#46039f"
                          ],
                          [
                            0.2222222222222222,
                            "#7201a8"
                          ],
                          [
                            0.3333333333333333,
                            "#9c179e"
                          ],
                          [
                            0.4444444444444444,
                            "#bd3786"
                          ],
                          [
                            0.5555555555555556,
                            "#d8576b"
                          ],
                          [
                            0.6666666666666666,
                            "#ed7953"
                          ],
                          [
                            0.7777777777777778,
                            "#fb9f3a"
                          ],
                          [
                            0.8888888888888888,
                            "#fdca26"
                          ],
                          [
                            1,
                            "#f0f921"
                          ]
                        ],
                        "type": "histogram2d"
                      }
                    ],
                    "histogram2dcontour": [
                      {
                        "colorbar": {
                          "outlinewidth": 0,
                          "ticks": ""
                        },
                        "colorscale": [
                          [
                            0,
                            "#0d0887"
                          ],
                          [
                            0.1111111111111111,
                            "#46039f"
                          ],
                          [
                            0.2222222222222222,
                            "#7201a8"
                          ],
                          [
                            0.3333333333333333,
                            "#9c179e"
                          ],
                          [
                            0.4444444444444444,
                            "#bd3786"
                          ],
                          [
                            0.5555555555555556,
                            "#d8576b"
                          ],
                          [
                            0.6666666666666666,
                            "#ed7953"
                          ],
                          [
                            0.7777777777777778,
                            "#fb9f3a"
                          ],
                          [
                            0.8888888888888888,
                            "#fdca26"
                          ],
                          [
                            1,
                            "#f0f921"
                          ]
                        ],
                        "type": "histogram2dcontour"
                      }
                    ],
                    "mesh3d": [
                      {
                        "colorbar": {
                          "outlinewidth": 0,
                          "ticks": ""
                        },
                        "type": "mesh3d"
                      }
                    ],
                    "parcoords": [
                      {
                        "line": {
                          "colorbar": {
                            "outlinewidth": 0,
                            "ticks": ""
                          }
                        },
                        "type": "parcoords"
                      }
                    ],
                    "pie": [
                      {
                        "automargin": true,
                        "type": "pie"
                      }
                    ],
                    "scatter": [
                      {
                        "fillpattern": {
                          "fillmode": "overlay",
                          "size": 10,
                          "solidity": 0.2
                        },
                        "type": "scatter"
                      }
                    ],
                    "scatter3d": [
                      {
                        "line": {
                          "colorbar": {
                            "outlinewidth": 0,
                            "ticks": ""
                          }
                        },
                        "marker": {
                          "colorbar": {
                            "outlinewidth": 0,
                            "ticks": ""
                          }
                        },
                        "type": "scatter3d"
                      }
                    ],
                    "scattercarpet": [
                      {
                        "marker": {
                          "colorbar": {
                            "outlinewidth": 0,
                            "ticks": ""
                          }
                        },
                        "type": "scattercarpet"
                      }
                    ],
                    "scattergeo": [
                      {
                        "marker": {
                          "colorbar": {
                            "outlinewidth": 0,
                            "ticks": ""
                          }
                        },
                        "type": "scattergeo"
                      }
                    ],
                    "scattergl": [
                      {
                        "marker": {
                          "colorbar": {
                            "outlinewidth": 0,
                            "ticks": ""
                          }
                        },
                        "type": "scattergl"
                      }
                    ],
                    "scattermap": [
                      {
                        "marker": {
                          "colorbar": {
                            "outlinewidth": 0,
                            "ticks": ""
                          }
                        },
                        "type": "scattermap"
                      }
                    ],
                    "scattermapbox": [
                      {
                        "marker": {
                          "colorbar": {
                            "outlinewidth": 0,
                            "ticks": ""
                          }
                        },
                        "type": "scattermapbox"
                      }
                    ],
                    "scatterpolar": [
                      {
                        "marker": {
                          "colorbar": {
                            "outlinewidth": 0,
                            "ticks": ""
                          }
                        },
                        "type": "scatterpolar"
                      }
                    ],
                    "scatterpolargl": [
                      {
                        "marker": {
                          "colorbar": {
                            "outlinewidth": 0,
                            "ticks": ""
                          }
                        },
                        "type": "scatterpolargl"
                      }
                    ],
                    "scatterternary": [
                      {
                        "marker": {
                          "colorbar": {
                            "outlinewidth": 0,
                            "ticks": ""
                          }
                        },
                        "type": "scatterternary"
                      }
                    ],
                    "surface": [
                      {
                        "colorbar": {
                          "outlinewidth": 0,
                          "ticks": ""
                        },
                        "colorscale": [
                          [
                            0,
                            "#0d0887"
                          ],
                          [
                            0.1111111111111111,
                            "#46039f"
                          ],
                          [
                            0.2222222222222222,
                            "#7201a8"
                          ],
                          [
                            0.3333333333333333,
                            "#9c179e"
                          ],
                          [
                            0.4444444444444444,
                            "#bd3786"
                          ],
                          [
                            0.5555555555555556,
                            "#d8576b"
                          ],
                          [
                            0.6666666666666666,
                            "#ed7953"
                          ],
                          [
                            0.7777777777777778,
                            "#fb9f3a"
                          ],
                          [
                            0.8888888888888888,
                            "#fdca26"
                          ],
                          [
                            1,
                            "#f0f921"
                          ]
                        ],
                        "type": "surface"
                      }
                    ],
                    "table": [
                      {
                        "cells": {
                          "fill": {
                            "color": "#EBF0F8"
                          },
                          "line": {
                            "color": "white"
                          }
                        },
                        "header": {
                          "fill": {
                            "color": "#C8D4E3"
                          },
                          "line": {
                            "color": "white"
                          }
                        },
                        "type": "table"
                      }
                    ]
                  },
                  "layout": {
                    "annotationdefaults": {
                      "arrowcolor": "#2a3f5f",
                      "arrowhead": 0,
                      "arrowwidth": 1
                    },
                    "autotypenumbers": "strict",
                    "coloraxis": {
                      "colorbar": {
                        "outlinewidth": 0,
                        "ticks": ""
                      }
                    },
                    "colorscale": {
                      "diverging": [
                        [
                          0,
                          "#8e0152"
                        ],
                        [
                          0.1,
                          "#c51b7d"
                        ],
                        [
                          0.2,
                          "#de77ae"
                        ],
                        [
                          0.3,
                          "#f1b6da"
                        ],
                        [
                          0.4,
                          "#fde0ef"
                        ],
                        [
                          0.5,
                          "#f7f7f7"
                        ],
                        [
                          0.6,
                          "#e6f5d0"
                        ],
                        [
                          0.7,
                          "#b8e186"
                        ],
                        [
                          0.8,
                          "#7fbc41"
                        ],
                        [
                          0.9,
                          "#4d9221"
                        ],
                        [
                          1,
                          "#276419"
                        ]
                      ],
                      "sequential": [
                        [
                          0,
                          "#0d0887"
                        ],
                        [
                          0.1111111111111111,
                          "#46039f"
                        ],
                        [
                          0.2222222222222222,
                          "#7201a8"
                        ],
                        [
                          0.3333333333333333,
                          "#9c179e"
                        ],
                        [
                          0.4444444444444444,
                          "#bd3786"
                        ],
                        [
                          0.5555555555555556,
                          "#d8576b"
                        ],
                        [
                          0.6666666666666666,
                          "#ed7953"
                        ],
                        [
                          0.7777777777777778,
                          "#fb9f3a"
                        ],
                        [
                          0.8888888888888888,
                          "#fdca26"
                        ],
                        [
                          1,
                          "#f0f921"
                        ]
                      ],
                      "sequentialminus": [
                        [
                          0,
                          "#0d0887"
                        ],
                        [
                          0.1111111111111111,
                          "#46039f"
                        ],
                        [
                          0.2222222222222222,
                          "#7201a8"
                        ],
                        [
                          0.3333333333333333,
                          "#9c179e"
                        ],
                        [
                          0.4444444444444444,
                          "#bd3786"
                        ],
                        [
                          0.5555555555555556,
                          "#d8576b"
                        ],
                        [
                          0.6666666666666666,
                          "#ed7953"
                        ],
                        [
                          0.7777777777777778,
                          "#fb9f3a"
                        ],
                        [
                          0.8888888888888888,
                          "#fdca26"
                        ],
                        [
                          1,
                          "#f0f921"
                        ]
                      ]
                    },
                    "colorway": [
                      "#636efa",
                      "#EF553B",
                      "#00cc96",
                      "#ab63fa",
                      "#FFA15A",
                      "#19d3f3",
                      "#FF6692",
                      "#B6E880",
                      "#FF97FF",
                      "#FECB52"
                    ],
                    "font": {
                      "color": "#2a3f5f"
                    },
                    "geo": {
                      "bgcolor": "white",
                      "lakecolor": "white",
                      "landcolor": "white",
                      "showlakes": true,
                      "showland": true,
                      "subunitcolor": "#C8D4E3"
                    },
                    "hoverlabel": {
                      "align": "left"
                    },
                    "hovermode": "closest",
                    "mapbox": {
                      "style": "light"
                    },
                    "paper_bgcolor": "white",
                    "plot_bgcolor": "white",
                    "polar": {
                      "angularaxis": {
                        "gridcolor": "#EBF0F8",
                        "linecolor": "#EBF0F8",
                        "ticks": ""
                      },
                      "bgcolor": "white",
                      "radialaxis": {
                        "gridcolor": "#EBF0F8",
                        "linecolor": "#EBF0F8",
                        "ticks": ""
                      }
                    },
                    "scene": {
                      "xaxis": {
                        "backgroundcolor": "white",
                        "gridcolor": "#DFE8F3",
                        "gridwidth": 2,
                        "linecolor": "#EBF0F8",
                        "showbackground": true,
                        "ticks": "",
                        "zerolinecolor": "#EBF0F8"
                      },
                      "yaxis": {
                        "backgroundcolor": "white",
                        "gridcolor": "#DFE8F3",
                        "gridwidth": 2,
                        "linecolor": "#EBF0F8",
                        "showbackground": true,
                        "ticks": "",
                        "zerolinecolor": "#EBF0F8"
                      },
                      "zaxis": {
                        "backgroundcolor": "white",
                        "gridcolor": "#DFE8F3",
                        "gridwidth": 2,
                        "linecolor": "#EBF0F8",
                        "showbackground": true,
                        "ticks": "",
                        "zerolinecolor": "#EBF0F8"
                      }
                    },
                    "shapedefaults": {
                      "line": {
                        "color": "#2a3f5f"
                      }
                    },
                    "ternary": {
                      "aaxis": {
                        "gridcolor": "#DFE8F3",
                        "linecolor": "#A2B1C6",
                        "ticks": ""
                      },
                      "baxis": {
                        "gridcolor": "#DFE8F3",
                        "linecolor": "#A2B1C6",
                        "ticks": ""
                      },
                      "bgcolor": "white",
                      "caxis": {
                        "gridcolor": "#DFE8F3",
                        "linecolor": "#A2B1C6",
                        "ticks": ""
                      }
                    },
                    "title": {
                      "x": 0.05
                    },
                    "xaxis": {
                      "automargin": true,
                      "gridcolor": "#EBF0F8",
                      "linecolor": "#EBF0F8",
                      "ticks": "",
                      "title": {
                        "standoff": 15
                      },
                      "zerolinecolor": "#EBF0F8",
                      "zerolinewidth": 2
                    },
                    "yaxis": {
                      "automargin": true,
                      "gridcolor": "#EBF0F8",
                      "linecolor": "#EBF0F8",
                      "ticks": "",
                      "title": {
                        "standoff": 15
                      },
                      "zerolinecolor": "#EBF0F8",
                      "zerolinewidth": 2
                    }
                  }
                },
                "title": {
                  "text": "Mean Extinction Probability vs. Mean Infections"
                },
                "xaxis": {
                  "anchor": "y",
                  "domain": [
                    0,
                    1
                  ],
                  "title": {
                    "text": "Mean Infections"
                  }
                },
                "yaxis": {
                  "anchor": "x",
                  "domain": [
                    0,
                    1
                  ],
                  "title": {
                    "text": "Mean Extinction Probability"
                  }
                }
              }
            }
          },
          "metadata": {},
          "output_type": "display_data"
        }
      ],
      "source": [
        "# interactive extinction vs infections\n",
        "def plot_interactive_extinction_vs_infection(df):\n",
        "\n",
        "    fig = px.scatter(\n",
        "        df,\n",
        "        x='avg_infections',  # Mean Infections\n",
        "        y='avg_extinction_prob',  # Mean Extinction Probability\n",
        "        color='r0',  # Color points based on R₀\n",
        "        color_continuous_scale='viridis',\n",
        "        labels={'avg_infections': 'Mean Infections',\n",
        "                'avg_extinction_prob': 'Mean Extinction Probability',\n",
        "                'r0': 'R₀ Value'},\n",
        "        title='Mean Extinction Probability vs. Mean Infections',\n",
        "        hover_data=['r0', 'avg_infections', 'avg_extinction_prob']  # Show additional info on hover\n",
        "    )\n",
        "\n",
        "    # Group by r0 value and add lines to connect the points of the same r0\n",
        "    for r0_value in df['r0'].unique():\n",
        "        # Filter the DataFrame for the current r0 value\n",
        "        subset = df[df['r0'] == r0_value]\n",
        "\n",
        "        # Add a line connecting the points of this r0\n",
        "        # Normalize r0_value to the range 0-255 to get color index\n",
        "        color_index = int(r0_value / max(df['r0']) * (len(px.colors.sequential.Viridis) - 1))\n",
        "\n",
        "        fig.add_trace(go.Scatter(\n",
        "            x=subset['avg_infections'],\n",
        "            y=subset['avg_extinction_prob'],\n",
        "            mode='lines+markers',\n",
        "            name=f'R₀ = {r0_value:.2f}',  # Label for the line\n",
        "            line=dict(color=px.colors.sequential.Viridis[color_index], dash='solid'),  # Line color based on r0 value\n",
        "            marker=dict(size=8)  # Markers at the points\n",
        "        ))\n",
        "\n",
        "    # Update layout to adjust legend and colorbar positioning\n",
        "    fig.update_layout(\n",
        "        xaxis_title='Mean Infections',\n",
        "        yaxis_title='Mean Extinction Probability',\n",
        "        template='plotly_white',  # Optional: choose a theme\n",
        "        coloraxis_colorbar=dict(\n",
        "            title=\"R₀ Value\",\n",
        "            tickvals=[df['r0'].min(), df['r0'].max()],\n",
        "            ticktext=[f\"{df['r0'].min():.2f}\", f\"{df['r0'].max():.2f}\"],\n",
        "            tickmode='array',\n",
        "            len=0.75,  # Adjust colorbar length\n",
        "            x=1.05  # Move colorbar to the right to avoid overlap\n",
        "        ),\n",
        "        legend=dict(\n",
        "            x=1,  # Adjust legend's position to avoid overlap with colorbar\n",
        "            y=1.2,\n",
        "            traceorder='normal',\n",
        "            bgcolor='rgba(255, 255, 255, 0.5)',  # Optional: make legend background semi-transparent\n",
        "            bordercolor='Black',\n",
        "            borderwidth=1\n",
        "        )\n",
        "    )\n",
        "\n",
        "    fig.show()\n",
        "\n",
        "# Call the function\n",
        "plot_interactive_extinction_vs_infection(df)\n"
      ]
    }
  ],
  "metadata": {
    "accelerator": "GPU",
    "colab": {
      "gpuType": "T4",
      "provenance": []
    },
    "kernelspec": {
      "display_name": "Python 3",
      "name": "python3"
    },
    "language_info": {
      "codemirror_mode": {
        "name": "ipython",
        "version": 3
      },
      "file_extension": ".py",
      "mimetype": "text/x-python",
      "name": "python",
      "nbconvert_exporter": "python",
      "pygments_lexer": "ipython3",
      "version": "3.11.9"
    }
  },
  "nbformat": 4,
  "nbformat_minor": 0
}
